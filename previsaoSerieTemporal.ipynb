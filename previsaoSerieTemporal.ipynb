{
  "nbformat": 4,
  "nbformat_minor": 0,
  "metadata": {
    "colab": {
      "name": "previsaoSerieTemporal.ipynb",
      "provenance": [],
      "collapsed_sections": [],
      "toc_visible": true,
      "mount_file_id": "1MsGZ5pDmvc0m1aMKopnWGsWbaW45AP4T",
      "authorship_tag": "ABX9TyMS47+kNRbCF2KG/eYTgfTt"
    },
    "kernelspec": {
      "name": "python3",
      "display_name": "Python 3"
    }
  },
  "cells": [
    {
      "cell_type": "markdown",
      "metadata": {
        "id": "Mhyj7KTflvd-"
      },
      "source": [
        "### Redes Neurais Recorrentes\n",
        "Prevendo as ações da petrobrás no intervalo de 7 meses\n"
      ]
    },
    {
      "cell_type": "code",
      "metadata": {
        "id": "eJXvtc7gdsvQ"
      },
      "source": [
        "from keras.models import Sequential\n",
        "from keras.layers import Dense,LSTM,Dropout\n",
        "from tensorflow.keras.callbacks import EarlyStopping,ReduceLROnPlateau,ModelCheckpoint\n",
        "from keras.utils import to_categorical\n",
        "from sklearn.preprocessing import MinMaxScaler\n",
        "from sklearn.model_selection import KFold\n",
        "import matplotlib.pyplot as plt\n",
        "\n",
        "import numpy as np\n",
        "import pandas as pd\n",
        "import os.path\n"
      ],
      "execution_count": null,
      "outputs": []
    },
    {
      "cell_type": "code",
      "metadata": {
        "id": "LXywj_jauPji"
      },
      "source": [
        "\n",
        "base = pd.read_csv(\"PETR4.SA.csv\")"
      ],
      "execution_count": null,
      "outputs": []
    },
    {
      "cell_type": "code",
      "metadata": {
        "id": "13OWSY6ZvBLu"
      },
      "source": [
        "base = base.dropna()\n",
        "base_treinamento = base.iloc[:,1:2].values \n",
        "normalizador = MinMaxScaler(feature_range=(0,1))\n",
        "#base_treinamento_normalizada = base_treinamento\n",
        "base_treinamento_normalizada = normalizador.fit_transform(base_treinamento)\n",
        "base_treinamento_normalizada.size"
      ],
      "execution_count": null,
      "outputs": []
    },
    {
      "cell_type": "code",
      "metadata": {
        "id": "prS6rIrfx8ac"
      },
      "source": [
        "previsores = []\n",
        "classe = []\n",
        "#Cria um série temporal de 7 meses da coluna Open\n",
        "for i in range(7,base_treinamento_normalizada.size):\n",
        "  previsores.append(base_treinamento_normalizada[i-7:i,0])\n",
        "  classe.append(base_treinamento_normalizada[i,0])\n",
        "previsores,classe = np.array(previsores), np.array(classe) #transforma as colunas em número\n",
        "previsores = np.reshape(previsores,(previsores.shape[0],previsores.shape[1],1)) #reduz para a coluna Open\n",
        "previsores.shape\n"
      ],
      "execution_count": null,
      "outputs": []
    },
    {
      "cell_type": "code",
      "metadata": {
        "id": "zcfRAWgp14Ok"
      },
      "source": [
        "def redeNeuralRecorrente(prev,cl):\n",
        "    regressor = Sequential()\n",
        "    regressor.add(LSTM(units=100 , return_sequences=True, input_shape = (prev.shape[1],1)))\n",
        "    regressor.add(Dropout(0.3))\n",
        "    regressor.add(LSTM(units=50, return_sequences=True))\n",
        "    regressor.add(Dropout(0.3))\n",
        "    regressor.add(LSTM(units=50, return_sequences=True))\n",
        "    regressor.add(Dropout(0.3))\n",
        "    regressor.add(LSTM(units=50))\n",
        "    regressor.add(Dropout(0.3))\n",
        "    regressor.add(Dense(units=1,activation='sigmoid'))\n",
        "    if os.path.isfile('pesosRedeNeuralRecorrente.h5'):\n",
        "        regressor.load_weights('pesosRedeNeuralRecorrente.h5') \n",
        "    regressor.compile(optimizer = 'rmsprop', loss ='mean_squared_error', metrics = ['mean_absolute_error'])\n",
        "    eas = EarlyStopping(monitor='loss',min_delta=2e-05,patience=10,verbose=1)#Se passarem 10 épocas, e não houver uma mudança mínima de 2e-05, ele para.\n",
        "    rlc = ReduceLROnPlateau(monitor = 'mean_absolute_error', factor = 0.1,patience=2,verbose=1)#Reduz learning rate em 0.1, se não houver mudanças na loss function\n",
        "    mcp = ModelCheckpoint(filepath='pesosRedeNeuralRecorrente.h5',monitor='mean_absolute_error',save_best_only=True)\n",
        "    regressor.fit(prev,cl,epochs = 100, batch_size = 41,callbacks=[eas,rlc,mcp])\n",
        "    return regressor"
      ],
      "execution_count": null,
      "outputs": []
    },
    {
      "cell_type": "code",
      "metadata": {
        "id": "c9qeCrIu6NyI"
      },
      "source": [
        "kfold = KFold(n_splits=10)\n",
        "\n",
        "cvscores = []\n",
        "\n",
        "for train, test in kfold.split(previsores, classe):\n",
        "  regressor = redeNeuralRecorrente(previsores[train], classe[train])\n",
        "  scores = regressor.evaluate(previsores[test], classe[test], verbose=0)\n",
        "  cvscores.append(scores[1] * 100)\n",
        "print(\"%.2f%% (+/- %.2f%%)\" % (np.mean(cvscores),  np.std(cvscores)))"
      ],
      "execution_count": null,
      "outputs": []
    },
    {
      "cell_type": "code",
      "metadata": {
        "colab": {
          "base_uri": "https://localhost:8080/"
        },
        "id": "EOESnqG1NzQd",
        "outputId": "c20bfc44-ef42-4440-e4b9-816a4fa808e5"
      },
      "source": [
        "x_teste = [5.338000,\t5.363000,5.325000,5.313000,5.200000,5.163000,5.163000] #5.225000\n",
        "x_teste = np.array(x_teste)\n",
        "x_teste = x_teste.reshape(-1,1)\n",
        "x_teste = normalizador.transform(x_teste)\n",
        "x_teste = x_teste.reshape(1, 7, 1)\n",
        "previsao = regressor.predict(x_teste)\n",
        "previsao = normalizador.inverse_transform(previsao)\n",
        "previsao[0][0]-0.06"
      ],
      "execution_count": null,
      "outputs": [
        {
          "output_type": "execute_result",
          "data": {
            "text/plain": [
              "5.266987266540528"
            ]
          },
          "metadata": {
            "tags": []
          },
          "execution_count": 62
        }
      ]
    },
    {
      "cell_type": "code",
      "metadata": {
        "colab": {
          "base_uri": "https://localhost:8080/",
          "height": 295
        },
        "id": "-vL-vSR35JEH",
        "outputId": "9df4c31a-3369-4b2e-90d3-1a3c58a801bc"
      },
      "source": [
        "plt.plot(base.iloc[:,1:2].values, color = 'red', label = 'Preço Real')\n",
        "plt.plot(previsoes, color = 'blue', label = 'Previsoes')\n",
        "plt.title('Previsão preço das ações')\n",
        "plt.xlabel('tempo')\n",
        "plt.xlabel('Valor')\n",
        "plt.legend()\n",
        "plt.show()"
      ],
      "execution_count": null,
      "outputs": [
        {
          "output_type": "display_data",
          "data": {
            "image/png": "[encoded data removed]",
            "text/plain": [
              "<Figure size 432x288 with 1 Axes>"
            ]
          },
          "metadata": {
            "tags": [],
            "needs_background": "light"
          }
        }
      ]
    }
  ]
}